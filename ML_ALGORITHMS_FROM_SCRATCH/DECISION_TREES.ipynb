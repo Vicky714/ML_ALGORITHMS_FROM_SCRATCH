{
  "nbformat": 4,
  "nbformat_minor": 0,
  "metadata": {
    "colab": {
      "provenance": []
    },
    "kernelspec": {
      "name": "python3",
      "display_name": "Python 3"
    },
    "language_info": {
      "name": "python"
    }
  },
  "cells": [
    {
      "cell_type": "markdown",
      "source": [
        "#DECISION TREES"
      ],
      "metadata": {
        "id": "v3E_kEsvvovn"
      }
    },
    {
      "cell_type": "code",
      "source": [
        "import numpy as np\n",
        "\n",
        "def entropy(y):\n",
        "    classes, counts = np.unique(y, return_counts=True)\n",
        "    probs = counts / counts.sum()\n",
        "    return -np.sum(probs * np.log2(probs))\n",
        "\n",
        "def information_gain(y, left_y, right_y):\n",
        "    parent_entropy = entropy(y)\n",
        "    n = len(y)\n",
        "    n_left = len(left_y)\n",
        "    n_right = len(right_y)\n",
        "    child_entropy = (n_left / n) * entropy(left_y) + (n_right / n) * entropy(right_y)\n",
        "    return parent_entropy - child_entropy\n",
        "\n",
        "class Node:\n",
        "    def __init__(self, feature=None, threshold=None, left=None, right=None, value=None):\n",
        "        self.feature = feature\n",
        "        self.threshold = threshold\n",
        "        self.left = left\n",
        "        self.right = right\n",
        "        self.value = value\n",
        "\n",
        "    def is_leaf(self):\n",
        "        return self.value is not None\n",
        "\n",
        "class DecisionTree:\n",
        "    def __init__(self, max_depth=5):\n",
        "        self.max_depth = max_depth\n",
        "        self.root = None\n",
        "\n",
        "    def fit(self, X, y):\n",
        "        self.root = self._build_tree(X, y)\n",
        "\n",
        "    def _build_tree(self, X, y, depth=0):\n",
        "        if len(set(y)) == 1 or depth >= self.max_depth:\n",
        "            return Node(value=np.bincount(y).argmax())\n",
        "        best_gain = -1\n",
        "        best_feature = None\n",
        "        best_thresh = None\n",
        "        for feature in range(X.shape[1]):\n",
        "            thresholds = np.unique(X[:, feature])\n",
        "            for thresh in thresholds:\n",
        "                left_mask = X[:, feature] <= thresh\n",
        "                right_mask = ~left_mask\n",
        "                if len(y[left_mask]) == 0 or len(y[right_mask]) == 0:\n",
        "                    continue\n",
        "                gain = information_gain(y, y[left_mask], y[right_mask])\n",
        "                if gain > best_gain:\n",
        "                    best_gain = gain\n",
        "                    best_feature = feature\n",
        "                    best_thresh = thresh\n",
        "        if best_gain == -1:\n",
        "            return Node(value=np.bincount(y).argmax())\n",
        "        left = self._build_tree(X[X[:, best_feature] <= best_thresh], y[X[:, best_feature] <= best_thresh], depth + 1)\n",
        "        right = self._build_tree(X[X[:, best_feature] > best_thresh], y[X[:, best_feature] > best_thresh], depth + 1)\n",
        "        return Node(feature=best_feature, threshold=best_thresh, left=left, right=right)\n",
        "\n",
        "    def _predict(self, x, node):\n",
        "        if node.is_leaf():\n",
        "            return node.value\n",
        "        if x[node.feature] <= node.threshold:\n",
        "            return self._predict(x, node.left)\n",
        "        else:\n",
        "            return self._predict(x, node.right)\n",
        "    def predict(self, X):\n",
        "        return np.array([self._predict(x, self.root) for x in X])\n"
      ],
      "metadata": {
        "id": "VDRjH8amvsFX"
      },
      "execution_count": 6,
      "outputs": []
    },
    {
      "cell_type": "code",
      "source": [
        "from sklearn.datasets import load_iris\n",
        "from sklearn.model_selection import train_test_split\n",
        "\n",
        "x, y = load_iris(return_X_y=True)\n",
        "x_train, x_test, y_train, y_test = train_test_split(x, y, test_size=0.2,random_state=42)\n",
        "\n",
        "tree = DecisionTree(max_depth=3)\n",
        "tree.fit(x_train, y_train)\n",
        "\n",
        "y_pred = tree.predict(x_test)\n",
        "accuracy = np.mean(y_pred == y_test)\n",
        "print(\"Accuracy:\", accuracy * 100)\n"
      ],
      "metadata": {
        "colab": {
          "base_uri": "https://localhost:8080/"
        },
        "id": "OGwCC2G7vsIv",
        "outputId": "a8165997-913d-4bef-854b-ddde63828778"
      },
      "execution_count": 7,
      "outputs": [
        {
          "output_type": "stream",
          "name": "stdout",
          "text": [
            "Accuracy: 100.0\n"
          ]
        }
      ]
    },
    {
      "cell_type": "code",
      "source": [],
      "metadata": {
        "id": "KxAq-8bawHxE"
      },
      "execution_count": null,
      "outputs": []
    }
  ]
}