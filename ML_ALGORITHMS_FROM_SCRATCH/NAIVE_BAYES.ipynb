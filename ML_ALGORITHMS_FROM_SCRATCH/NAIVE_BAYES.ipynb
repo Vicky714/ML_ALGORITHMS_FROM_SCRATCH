{
  "nbformat": 4,
  "nbformat_minor": 0,
  "metadata": {
    "colab": {
      "provenance": []
    },
    "kernelspec": {
      "name": "python3",
      "display_name": "Python 3"
    },
    "language_info": {
      "name": "python"
    }
  },
  "cells": [
    {
      "cell_type": "markdown",
      "source": [
        "#NAIVE BAYES"
      ],
      "metadata": {
        "id": "x_aoRSYCwuUf"
      }
    },
    {
      "cell_type": "code",
      "source": [
        "import numpy as np\n",
        "\n",
        "class BernoulliNaiveBayes:\n",
        "    def fit(self, X, y):\n",
        "        self.classes = np.unique(y)\n",
        "        self.feature_probs = {}\n",
        "        self.class_priors = {}\n",
        "        for c in self.classes:\n",
        "            X_c = X[y == c]\n",
        "            self.class_priors[c] = len(X_c) / len(X)\n",
        "            self.feature_probs[c] = (np.sum(X_c, axis=0) + 1) / (X_c.shape[0] + 2)\n",
        "\n",
        "    def _bernoulli_prob(self, x, probs):\n",
        "        return x * np.log(probs) + (1 - x) * np.log(1 - probs)\n",
        "\n",
        "    def _predict_single(self, x):\n",
        "        posteriors = {}\n",
        "        for c in self.classes:\n",
        "            prior = np.log(self.class_priors[c])\n",
        "            cond_likelihood = np.sum(self._bernoulli_prob(x, self.feature_probs[c]))\n",
        "            posteriors[c] = prior + cond_likelihood\n",
        "        return max(posteriors, key=posteriors.get)\n",
        "\n",
        "    def predict(self, X):\n",
        "        return np.array([self._predict_single(x) for x in X])\n"
      ],
      "metadata": {
        "id": "409pJPhXw3Vg"
      },
      "execution_count": 1,
      "outputs": []
    },
    {
      "cell_type": "code",
      "source": [
        "from sklearn.datasets import load_breast_cancer\n",
        "from sklearn.model_selection import train_test_split\n",
        "from sklearn.preprocessing import Binarizer\n",
        "\n",
        "data = load_breast_cancer()\n",
        "x = Binarizer(threshold=10).fit_transform(data.data)\n",
        "y = data.target\n",
        "\n",
        "x_train, x_test, y_train, y_test = train_test_split(x, y, test_size=0.3)\n",
        "\n",
        "model = BernoulliNaiveBayes()\n",
        "model.fit(x_train, y_train)\n",
        "y_pred = model.predict(x_test)\n",
        "\n",
        "accuracy = np.mean(y_pred == y_test )\n",
        "print(\"Accuracy:\", accuracy * 100)\n"
      ],
      "metadata": {
        "colab": {
          "base_uri": "https://localhost:8080/"
        },
        "id": "ppoK-OKEx0wx",
        "outputId": "77c6bb95-6d8c-45a7-82f7-672422f0f5c1"
      },
      "execution_count": 3,
      "outputs": [
        {
          "output_type": "stream",
          "name": "stdout",
          "text": [
            "Accuracy: 60.23391812865497\n"
          ]
        }
      ]
    },
    {
      "cell_type": "code",
      "source": [],
      "metadata": {
        "id": "QW8TTKKYyN2K"
      },
      "execution_count": null,
      "outputs": []
    }
  ]
}