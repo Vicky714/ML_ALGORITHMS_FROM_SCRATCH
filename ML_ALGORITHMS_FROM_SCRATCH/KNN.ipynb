{
  "nbformat": 4,
  "nbformat_minor": 0,
  "metadata": {
    "colab": {
      "provenance": []
    },
    "kernelspec": {
      "name": "python3",
      "display_name": "Python 3"
    },
    "language_info": {
      "name": "python"
    }
  },
  "cells": [
    {
      "cell_type": "markdown",
      "source": [
        "#KNN"
      ],
      "metadata": {
        "id": "BtQ0JqBG-Hbq"
      }
    },
    {
      "cell_type": "code",
      "source": [
        "import numpy as np\n",
        "import pandas as pd\n",
        "from collections import Counter\n",
        "from sklearn.datasets import load_iris\n",
        "from sklearn.model_selection import train_test_split"
      ],
      "metadata": {
        "id": "cLjrR4l5-knX"
      },
      "execution_count": 21,
      "outputs": []
    },
    {
      "cell_type": "code",
      "source": [
        "X = load_iris().data\n",
        "Y = load_iris().target\n",
        "x_train,x_test,y_train,y_test = train_test_split(X,Y,test_size=0.3,random_state=42)"
      ],
      "metadata": {
        "id": "WMoKlsBX-kpy"
      },
      "execution_count": 22,
      "outputs": []
    },
    {
      "cell_type": "code",
      "source": [
        "class KNN:\n",
        "  def __init__(self, k):\n",
        "    self.k = k\n",
        "\n",
        "  def fit(self, x_train,y_train):\n",
        "    self.X_train = x_train\n",
        "    self.Y_train = y_train\n",
        "\n",
        "  def euclidean_distance(self, x1, x2):\n",
        "    return np.sqrt(np.sum((x1-x2)**2))\n",
        "\n",
        "  def predict(self, x_test):\n",
        "    Y_pred = [self.predict_(x) for x in x_test]\n",
        "    return np.array(Y_pred)\n",
        "\n",
        "  def predict_(self, x):\n",
        "        dist = [self.euclidean_distance(x, x_train) for x_train in self.X_train]\n",
        "        k_index = np.argsort(dist)[:self.k]\n",
        "        k_labels = [self.Y_train[i] for i in k_index]\n",
        "        most_common = Counter(k_labels).most_common(1)\n",
        "        return most_common[0][0]\n",
        "\n",
        "  def accuracy_score(self, x_test, y_test):\n",
        "        y_pred = self.predict(x_test)\n",
        "        return np.mean(y_pred == y_test).astype(int)"
      ],
      "metadata": {
        "id": "rQmna7Sz-ktP"
      },
      "execution_count": 32,
      "outputs": []
    },
    {
      "cell_type": "code",
      "source": [
        "knn = KNN(k=3)\n",
        "knn.fit(x_train, y_train)"
      ],
      "metadata": {
        "id": "GQ-MhfrwDqJG"
      },
      "execution_count": 33,
      "outputs": []
    },
    {
      "cell_type": "code",
      "source": [
        "knn.predict(x_test)"
      ],
      "metadata": {
        "colab": {
          "base_uri": "https://localhost:8080/"
        },
        "id": "J01sF32_ESSZ",
        "outputId": "1c2a7de1-b0dc-41b3-fa78-7d3435a38560"
      },
      "execution_count": 34,
      "outputs": [
        {
          "output_type": "execute_result",
          "data": {
            "text/plain": [
              "array([1, 0, 2, 1, 1, 0, 1, 2, 1, 1, 2, 0, 0, 0, 0, 1, 2, 1, 1, 2, 0, 2,\n",
              "       0, 2, 2, 2, 2, 2, 0, 0, 0, 0, 1, 0, 0, 2, 1, 0, 0, 0, 2, 1, 1, 0,\n",
              "       0])"
            ]
          },
          "metadata": {},
          "execution_count": 34
        }
      ]
    },
    {
      "cell_type": "code",
      "source": [
        "knn.accuracy_score(x_test, y_test) * 100"
      ],
      "metadata": {
        "colab": {
          "base_uri": "https://localhost:8080/"
        },
        "id": "cngIFdzAEy8o",
        "outputId": "b16c8aa8-cfd1-4000-f7f8-10a60446fda1"
      },
      "execution_count": 35,
      "outputs": [
        {
          "output_type": "execute_result",
          "data": {
            "text/plain": [
              "np.int64(100)"
            ]
          },
          "metadata": {},
          "execution_count": 35
        }
      ]
    },
    {
      "cell_type": "code",
      "source": [],
      "metadata": {
        "id": "iaH6bYRnE2bV"
      },
      "execution_count": null,
      "outputs": []
    }
  ]
}