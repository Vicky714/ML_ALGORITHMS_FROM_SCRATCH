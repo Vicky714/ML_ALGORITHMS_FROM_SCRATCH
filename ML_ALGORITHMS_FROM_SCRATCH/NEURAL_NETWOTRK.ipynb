{
  "nbformat": 4,
  "nbformat_minor": 0,
  "metadata": {
    "colab": {
      "provenance": []
    },
    "kernelspec": {
      "name": "python3",
      "display_name": "Python 3"
    },
    "language_info": {
      "name": "python"
    }
  },
  "cells": [
    {
      "cell_type": "markdown",
      "source": [
        "#FEED FORWARD NEURAL NETWORK"
      ],
      "metadata": {
        "id": "EYJ_Fs9j3d9c"
      }
    },
    {
      "cell_type": "code",
      "execution_count": 4,
      "metadata": {
        "id": "UGdWMcbezqxQ"
      },
      "outputs": [],
      "source": [
        "import numpy as np\n",
        "def sigmoid(x):\n",
        "    return 1 / (1 + np.exp(-x))\n",
        "\n",
        "def sigmoid_derivative(x):\n",
        "    return x * (1 - x)\n",
        "\n",
        "class NeuralNetwork:\n",
        "    def __init__(self):\n",
        "\n",
        "        self.number_of_inputs = 2\n",
        "        self.number_of_hidden_neurons = 4\n",
        "        self.number_of_outputs = 1\n",
        "        self.weights_input_hidden = np.random.rand(self.number_of_inputs, self.number_of_hidden_neurons)\n",
        "        self.bias_hidden = np.random.rand(1, self.number_of_hidden_neurons)\n",
        "        self.weights_hidden_output = np.random.rand(self.number_of_hidden_neurons, self.number_of_outputs)\n",
        "        self.bias_output = np.random.rand(1, self.number_of_outputs)\n",
        "\n",
        "    def forward_pass(self, inputs):\n",
        "        self.input_data = inputs\n",
        "        self.hidden_layer_input = np.dot(self.input_data, self.weights_input_hidden) + self.bias_hidden\n",
        "        self.hidden_layer_output = sigmoid(self.hidden_layer_input)\n",
        "        self.output_layer_input = np.dot(self.hidden_layer_output, self.weights_hidden_output) + self.bias_output\n",
        "        self.final_output = sigmoid(self.output_layer_input)\n",
        "        return self.final_output\n",
        "\n",
        "    def backward_pass(self, actual_output, learning_rate):\n",
        "        error = actual_output - self.final_output\n",
        "        output_error = error * sigmoid_derivative(self.final_output)\n",
        "        hidden_error = output_error.dot(self.weights_hidden_output.T) * sigmoid_derivative(self.hidden_layer_output)\n",
        "        self.weights_hidden_output += self.hidden_layer_output.T.dot(output_error) * learning_rate\n",
        "        self.bias_output += np.sum(output_error, axis=0, keepdims=True) * learning_rate\n",
        "        self.weights_input_hidden += self.input_data.T.dot(hidden_error) * learning_rate\n",
        "        self.bias_hidden += np.sum(hidden_error, axis=0, keepdims=True) * learning_rate\n",
        "\n",
        "    def train(self, training_inputs, training_outputs, number_of_epochs, learning_rate):\n",
        "        for epoch in range(number_of_epochs):\n",
        "            predicted_output = self.forward_pass(training_inputs)\n",
        "            self.backward_pass(training_outputs, learning_rate)\n",
        "\n",
        "            if epoch % 100 == 0:\n",
        "                loss = np.mean(np.square(training_outputs - predicted_output))\n",
        "                print(f\"Epoch {epoch} | Loss: {loss:.4f}\")\n",
        "    def predict(self, new_input):\n",
        "        prediction = self.forward_pass(new_input)\n",
        "        return (prediction > 0.5).astype(int)\n"
      ]
    },
    {
      "cell_type": "code",
      "source": [
        "#Xor Gate\n",
        "input_data = np.array([[0, 0],\n",
        "                       [0, 1],\n",
        "                       [1, 0],\n",
        "                       [1, 1]])\n",
        "\n",
        "expected_output = np.array([[0],\n",
        "                            [1],\n",
        "                            [1],\n",
        "                            [0]])\n",
        "\n",
        "NN = NeuralNetwork()\n",
        "NN.train(training_inputs=input_data,\n",
        "                 training_outputs=expected_output,\n",
        "                 number_of_epochs=1000,\n",
        "                 learning_rate=0.1)\n",
        "print(\"Predictions:\\n\", NN.predict(input_data))\n"
      ],
      "metadata": {
        "colab": {
          "base_uri": "https://localhost:8080/"
        },
        "id": "2roPheWM2ln2",
        "outputId": "718bfaeb-1ab5-490e-c6a6-9ad15b425001"
      },
      "execution_count": 5,
      "outputs": [
        {
          "output_type": "stream",
          "name": "stdout",
          "text": [
            "Epoch 0 | Loss: 0.4087\n",
            "Epoch 100 | Loss: 0.2496\n",
            "Epoch 200 | Loss: 0.2494\n",
            "Epoch 300 | Loss: 0.2492\n",
            "Epoch 400 | Loss: 0.2490\n",
            "Epoch 500 | Loss: 0.2488\n",
            "Epoch 600 | Loss: 0.2485\n",
            "Epoch 700 | Loss: 0.2481\n",
            "Epoch 800 | Loss: 0.2477\n",
            "Epoch 900 | Loss: 0.2472\n",
            "Predictions:\n",
            " [[0]\n",
            " [0]\n",
            " [1]\n",
            " [1]]\n"
          ]
        }
      ]
    },
    {
      "cell_type": "code",
      "source": [],
      "metadata": {
        "id": "jr-Mtlr32mFt"
      },
      "execution_count": null,
      "outputs": []
    }
  ]
}