{
  "nbformat": 4,
  "nbformat_minor": 0,
  "metadata": {
    "colab": {
      "provenance": []
    },
    "kernelspec": {
      "name": "python3",
      "display_name": "Python 3"
    },
    "language_info": {
      "name": "python"
    }
  },
  "cells": [
    {
      "cell_type": "markdown",
      "source": [
        "#K-MEANS CLUSTERING"
      ],
      "metadata": {
        "id": "_rWNYr9o4kQe"
      }
    },
    {
      "cell_type": "code",
      "source": [
        "import numpy as np\n",
        "\n",
        "class KMeans:\n",
        "    def __init__(self, K=3, max_iters=100):\n",
        "        self.K = K\n",
        "        self.max_iters = max_iters\n",
        "        self.centroids = None\n",
        "\n",
        "    def fit(self, X):\n",
        "        random_indices = np.random.choice(len(X), self.K, replace=False)\n",
        "        self.centroids = X[random_indices]\n",
        "\n",
        "        for _ in range(self.max_iters):\n",
        "            distances = self._compute_distances(X)\n",
        "            clusters = np.argmin(distances, axis=1)\n",
        "            new_centroids = np.array([X[clusters == k].mean(axis=0) for k in range(self.K)])\n",
        "            if np.allclose(self.centroids, new_centroids):\n",
        "                break\n",
        "            self.centroids = new_centroids\n",
        "        self.labels = clusters\n",
        "\n",
        "    def _compute_distances(self, X):\n",
        "        distances = np.zeros((len(X), self.K))\n",
        "        for k in range(self.K):\n",
        "            distances[:, k] = np.linalg.norm(X - self.centroids[k], axis=1)\n",
        "        return distances\n",
        "\n",
        "    def predict(self, X):\n",
        "        distances = self._compute_distances(X)\n",
        "        return np.argmin(distances, axis=1)"
      ],
      "metadata": {
        "id": "7dZFytCm4u8A"
      },
      "execution_count": 1,
      "outputs": []
    },
    {
      "cell_type": "code",
      "source": [
        "from sklearn.datasets import load_iris\n",
        "import numpy as np\n",
        "\n",
        "data = load_iris()\n",
        "X = data.data\n",
        "\n",
        "kmeans = KMeans(K=3)\n",
        "kmeans.fit(X)\n",
        "\n",
        "print(\"Centroids:\\n\", kmeans.centroids)\n",
        "print(\"Labels:\", kmeans.labels)\n"
      ],
      "metadata": {
        "colab": {
          "base_uri": "https://localhost:8080/"
        },
        "id": "rWxdK62D468c",
        "outputId": "4271a6e5-b2c5-4379-d0c6-84a2dbf3b2ca"
      },
      "execution_count": 2,
      "outputs": [
        {
          "output_type": "stream",
          "name": "stdout",
          "text": [
            "Centroids:\n",
            " [[6.85       3.07368421 5.74210526 2.07105263]\n",
            " [5.006      3.428      1.462      0.246     ]\n",
            " [5.9016129  2.7483871  4.39354839 1.43387097]]\n",
            "Labels: [1 1 1 1 1 1 1 1 1 1 1 1 1 1 1 1 1 1 1 1 1 1 1 1 1 1 1 1 1 1 1 1 1 1 1 1 1\n",
            " 1 1 1 1 1 1 1 1 1 1 1 1 1 2 2 0 2 2 2 2 2 2 2 2 2 2 2 2 2 2 2 2 2 2 2 2 2\n",
            " 2 2 2 0 2 2 2 2 2 2 2 2 2 2 2 2 2 2 2 2 2 2 2 2 2 2 0 2 0 0 0 0 2 0 0 0 0\n",
            " 0 0 2 2 0 0 0 0 2 0 2 0 2 0 0 2 2 0 0 0 0 0 2 0 0 0 0 2 0 0 0 2 0 0 0 2 0\n",
            " 0 2]\n"
          ]
        }
      ]
    },
    {
      "cell_type": "code",
      "source": [],
      "metadata": {
        "id": "uud_4TKg5EyE"
      },
      "execution_count": 2,
      "outputs": []
    }
  ]
}