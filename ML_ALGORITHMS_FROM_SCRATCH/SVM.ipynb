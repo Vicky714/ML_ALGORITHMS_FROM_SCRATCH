{
  "nbformat": 4,
  "nbformat_minor": 0,
  "metadata": {
    "colab": {
      "provenance": []
    },
    "kernelspec": {
      "name": "python3",
      "display_name": "Python 3"
    },
    "language_info": {
      "name": "python"
    }
  },
  "cells": [
    {
      "cell_type": "code",
      "execution_count": null,
      "metadata": {
        "id": "133kfyj2ym4w"
      },
      "outputs": [],
      "source": []
    },
    {
      "cell_type": "markdown",
      "source": [
        "#SVM"
      ],
      "metadata": {
        "id": "e6hpnJQFy0kI"
      }
    },
    {
      "cell_type": "code",
      "source": [
        "import numpy as np\n",
        "\n",
        "class SVM:\n",
        "    def __init__(self, lr=0.001, l_p=0.01, n_iters=1000):\n",
        "        self.lr = lr\n",
        "        self.l_p = l_p\n",
        "        self.n_iters = n_iters\n",
        "        self.w = None\n",
        "        self.b = None\n",
        "\n",
        "    def fit(self, X, y):\n",
        "        n_samples, n_features = X.shape\n",
        "        y_ = np.where(y <= 0, -1, 1)\n",
        "\n",
        "        self.w = np.zeros(n_features)\n",
        "        self.b = 0\n",
        "\n",
        "        for _ in range(self.n_iters):\n",
        "            for i, x_i in enumerate(X):\n",
        "                condition = y_[i] * (np.dot(x_i, self.w) + self.b) >= 1\n",
        "                if condition:\n",
        "                    self.w -= self.lr * (2 * self.l_p * self.w)\n",
        "                else:\n",
        "                    self.w -= self.lr * (2 * self.l_p * self.w - np.dot(x_i, y_[i]))\n",
        "                    self.b -= self.lr * y_[i]\n",
        "\n",
        "    def predict(self, X):\n",
        "        result = np.dot(X, self.w) + self.b\n",
        "        return np.sign(result)\n"
      ],
      "metadata": {
        "id": "XUHhBOdgy23x"
      },
      "execution_count": 1,
      "outputs": []
    },
    {
      "cell_type": "code",
      "source": [
        "from sklearn import datasets\n",
        "from sklearn.model_selection import train_test_split\n",
        "import matplotlib.pyplot as plt\n",
        "\n",
        "X, y = datasets.make_blobs(n_samples=100, n_features=2, centers=2, cluster_std=1.05, random_state=40)\n",
        "y = np.where(y == 0, -1, 1)\n",
        "\n",
        "X_train, X_test, y_train, y_test = train_test_split(X, y, test_size=0.2)\n",
        "\n",
        "clf = SVM()\n",
        "clf.fit(X_train, y_train)\n",
        "y_pred = clf.predict(X_test)\n",
        "accuracy = np.mean(y_pred == y_test)\n",
        "print(\"Accuracy:\", accuracy * 100)\n"
      ],
      "metadata": {
        "colab": {
          "base_uri": "https://localhost:8080/"
        },
        "id": "4xlu1U5MzOHP",
        "outputId": "b0fd7eef-c72d-4583-d934-042697aad96e"
      },
      "execution_count": 4,
      "outputs": [
        {
          "output_type": "stream",
          "name": "stdout",
          "text": [
            "Accuracy: 100.0\n"
          ]
        }
      ]
    },
    {
      "cell_type": "code",
      "source": [],
      "metadata": {
        "id": "csi88SW-zYBF"
      },
      "execution_count": null,
      "outputs": []
    }
  ]
}